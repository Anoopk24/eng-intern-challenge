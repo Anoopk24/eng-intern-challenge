{
 "cells": [
  {
   "cell_type": "markdown",
   "id": "02fc637f-60b2-48e6-bca8-bcbe86270974",
   "metadata": {},
   "source": [
    "- Read input\n",
    "- identify if english or braile\n",
    "\n",
    "for english\n",
    "- iterate over characters of each word and translate. concatenate together\n",
    "\n",
    "for braile\n",
    "- identify spaces\n",
    "- divide into words\n",
    "- divide into leters\n",
    "- translate and concatenate\n"
   ]
  },
  {
   "cell_type": "code",
   "execution_count": 17,
   "id": "7d172149-e79c-4951-9f22-b951cb0b1784",
   "metadata": {},
   "outputs": [],
   "source": [
    "from collections import Counter"
   ]
  },
  {
   "cell_type": "code",
   "execution_count": 49,
   "id": "16c0aed9-d6f7-43ad-a376-4ed665008df8",
   "metadata": {},
   "outputs": [],
   "source": [
    "word = 'Hello How Are you'"
   ]
  },
  {
   "cell_type": "code",
   "execution_count": 12,
   "id": "459d995e-5020-4707-8d95-a063f27b2728",
   "metadata": {},
   "outputs": [],
   "source": [
    "word2 = '.O.OOOOO.O..O.O...'"
   ]
  },
  {
   "cell_type": "code",
   "execution_count": 86,
   "id": "bfdb94cd-ca5d-44db-8176-8671315fc086",
   "metadata": {},
   "outputs": [],
   "source": [
    "def is_eng(word): #returns 1 if english, 0 if braile\n",
    "    if len(word)==0: #print error if wmpty word\n",
    "        print('word must be non blank')\n",
    "    else:\n",
    "        resp = Counter([l for l in word]) #count all the ocurrences of each letter\n",
    "        if len(resp) <=2: #it could be braile\n",
    "            ltrs = list(resp.keys()) #list of leters\n",
    "            try:\n",
    "                #remove the leters O and . assuming is braile\n",
    "                ltrs.remove('O')\n",
    "                ltrs.remove('.')\n",
    "                \n",
    "                if len(ltrs) == 0 : #if it is braile, there should not be anything left\n",
    "                    return 0 \n",
    "            except:\n",
    "                return 1 #is a word with less than 2 leters but is not braile\n",
    "        else:\n",
    "            return 1 #return 1 as it is english leters"
   ]
  },
  {
   "cell_type": "code",
   "execution_count": 87,
   "id": "e36a9e26-ddb4-4682-8e7f-3945000ee8f9",
   "metadata": {},
   "outputs": [
    {
     "data": {
      "text/plain": [
       "1"
      ]
     },
     "execution_count": 87,
     "metadata": {},
     "output_type": "execute_result"
    }
   ],
   "source": [
    "is_eng(word)"
   ]
  },
  {
   "cell_type": "code",
   "execution_count": 88,
   "id": "30774e26-d7a0-4efa-9a68-830cc59bbe53",
   "metadata": {},
   "outputs": [
    {
     "data": {
      "text/plain": [
       "0"
      ]
     },
     "execution_count": 88,
     "metadata": {},
     "output_type": "execute_result"
    }
   ],
   "source": [
    "is_eng(word2)"
   ]
  },
  {
   "cell_type": "code",
   "execution_count": 198,
   "id": "83bfffbc-ef9c-41dd-9c27-8d1fde085fbf",
   "metadata": {},
   "outputs": [],
   "source": [
    "eng_br = {'a':'O.....',\n",
    "'b':'O.O...',\n",
    "'c':'OO....',\n",
    "'d':'OO.O..',\n",
    "'e':'O..O..',\n",
    "'f':'OOO...',\n",
    "'g':'OOOO..',\n",
    "'h':'O.OO..',\n",
    "'i':'.OO...',\n",
    "'j':'.OOO..',\n",
    "'k':'O...O.',\n",
    "'l':'O.O.O.',\n",
    "'m':'OO..O.',\n",
    "'n':'OO.OO.',\n",
    "'o':'O..OO.',\n",
    "'p':'OOO.O.',\n",
    "'q':'OOOOO.',\n",
    "'r':'O.OOO.',\n",
    "'s':'.OO.O.',\n",
    "'t':'.OOOO.',\n",
    "'u':'O...OO',\n",
    "'v':'O.O.OO',\n",
    "'w':'.OOO.O',\n",
    "'x':'OO..OO',\n",
    "'y':'OO.OOO',\n",
    "'z':'O..OOO',\n",
    "'cap':'.....O',\n",
    "'dec':'.O...O',\n",
    "'num':'.O.OOO',\n",
    "'sp':'......',\n",
    "'.':'..OO.O',\n",
    "',':'..O...',\n",
    "'?':'..O.OO',\n",
    "'!':'..OOO.',\n",
    "':':'..OO..',\n",
    "';':'..O.O.',\n",
    "'-':'....OO',\n",
    "'/':'.O..O.',\n",
    "'<':'.OO..O',\n",
    "'>':'O..OO.',\n",
    "'(':'O.O..O',\n",
    "')':'.O.OO.'}"
   ]
  },
  {
   "cell_type": "code",
   "execution_count": 199,
   "id": "23dbc8a2-592f-4a54-a706-fab0b157323c",
   "metadata": {},
   "outputs": [],
   "source": [
    "eng_br_num = {'1':'O.....',\n",
    "'2':'O.O...',\n",
    "'3':'OO....',\n",
    "'4':'OO.O..',\n",
    "'5':'O..O..',\n",
    "'6':'OOO...',\n",
    "'7':'OOOO..',\n",
    "'8':'O.OO..',\n",
    "'9':'.OO...',\n",
    "'0':'.OOO..'}"
   ]
  },
  {
   "cell_type": "code",
   "execution_count": 66,
   "id": "8996ef4b-6820-4261-bd4e-4cd8cfe4feb9",
   "metadata": {},
   "outputs": [
    {
     "data": {
      "text/plain": [
       "True"
      ]
     },
     "execution_count": 66,
     "metadata": {},
     "output_type": "execute_result"
    }
   ],
   "source": [
    "'A'.isupper()"
   ]
  },
  {
   "cell_type": "code",
   "execution_count": 82,
   "id": "d0d8f647-e750-4aab-a2f9-28538765817b",
   "metadata": {},
   "outputs": [
    {
     "data": {
      "text/plain": [
       "True"
      ]
     },
     "execution_count": 82,
     "metadata": {},
     "output_type": "execute_result"
    }
   ],
   "source": [
    "'7'.isnumeric()"
   ]
  },
  {
   "cell_type": "code",
   "execution_count": 90,
   "id": "0958a45f-3c7e-485b-9457-e58ca5c31120",
   "metadata": {},
   "outputs": [],
   "source": [
    "def engToBr(word):\n",
    "    resp = '' #start with an empty word to return\n",
    "    dic = eng_br #assume leters\n",
    "    num = 0 #assume is letters\n",
    "    for l in word: #iterate over every character of the input\n",
    "        if l.isupper(): #for capitalized leter, add the capital braile symbol\n",
    "            resp += dic['cap']\n",
    "            resp += dic[l.lower()]\n",
    "        elif l == ' ': #for spaces add space symbol\n",
    "            dic = eng_br\n",
    "            resp += dic['sp']\n",
    "        elif l.isnumeric(): #for each numeric value adds numeric symbol prior to the number\n",
    "            if n ==0:\n",
    "                dic  = eng_br_num    \n",
    "                resp += eng_br['num']\n",
    "            resp += dic[l]\n",
    "        else: #if not number or capital or space, print the braile value of the character\n",
    "            resp += eng_br[l]\n",
    "    print(resp)"
   ]
  },
  {
   "cell_type": "code",
   "execution_count": 127,
   "id": "2d4bd958-6ff1-4518-a16e-6ec9778a8a9e",
   "metadata": {},
   "outputs": [],
   "source": [
    "#we are going to assume only leters (no symbols like question marks, as is not clear thow to differentiate and it would miss translate)\n",
    "br_eng = {'O.....':'a', \n",
    "'O.O...':'b', \n",
    "'OO....':'c', \n",
    "'OO.O..':'d', \n",
    "'O..O..':'e', \n",
    "'OOO...':'f', \n",
    "'OOOO..':'g', \n",
    "'O.OO..':'h', \n",
    "'.OO...':'i', \n",
    "'.OOO..':'j', \n",
    "'O...O.':'k', \n",
    "'O.O.O.':'l', \n",
    "'OO..O.':'m', \n",
    "'OO.OO.':'n', \n",
    "'O..OO.':'o', \n",
    "'OOO.O.':'p', \n",
    "'OOOOO.':'q', \n",
    "'O.OOO.':'r', \n",
    "'.OO.O.':'s', \n",
    "'.OOOO.':'t', \n",
    "'O...OO':'u', \n",
    "'O.O.OO':'v', \n",
    "'.OOO.O':'w', \n",
    "'OO..OO':'x', \n",
    "'OO.OOO':'y', \n",
    "'O..OOO':'z',\n",
    "'.....O':'cap', \n",
    "'.O...O':'dec', \n",
    "'.O.OOO':'num', \n",
    "'......':'sp'}"
   ]
  },
  {
   "cell_type": "code",
   "execution_count": 140,
   "id": "18b24f48-818d-429b-9de3-7445a75683dd",
   "metadata": {},
   "outputs": [],
   "source": [
    "br_eng_num = {'O.....':'1', \n",
    "'O.O...':'2', \n",
    "'OO....':'3', \n",
    "'OO.O..':'4', \n",
    "'O..O..':'5', \n",
    "'OOO...':'6', \n",
    "'OOOO..':'7', \n",
    "'O.OO..':'8', \n",
    "'.OO...':'9', \n",
    "'.OOO..':'0',\n",
    "'......':'sp'}"
   ]
  },
  {
   "cell_type": "code",
   "execution_count": 91,
   "id": "62e54ebc-55ed-43bd-8d29-c8c0bb2b3c91",
   "metadata": {},
   "outputs": [
    {
     "name": "stdout",
     "output_type": "stream",
     "text": [
      ".....OO.OO..O..O..O.O.O.O.O.O.O..OO............OO.OO..O..OO..OOO.O...........OO.....O.OOO.O..O........OO.OOOO..OO.O...OO\n"
     ]
    }
   ],
   "source": [
    "engToBr(word)"
   ]
  },
  {
   "cell_type": "code",
   "execution_count": 85,
   "id": "f76beb7c-6e9b-4778-a3ed-1ee38abd7629",
   "metadata": {},
   "outputs": [
    {
     "name": "stdout",
     "output_type": "stream",
     "text": [
      ".OOOO.O.OO..O..O..O.OOO.O..O.............O.OOO.OO......OO.O........O.OOOO...........O..OO.O.OOO........O.OOOO.O...\n"
     ]
    }
   ],
   "source": [
    "engToBr('there Was 1 or 2')"
   ]
  },
  {
   "cell_type": "markdown",
   "id": "1d6fbe86-36e5-4382-8d7f-e9b092a6ff34",
   "metadata": {},
   "source": [
    "Now for braile:"
   ]
  },
  {
   "cell_type": "code",
   "execution_count": 97,
   "id": "f38772dd-6b22-4254-9944-8db353f594c2",
   "metadata": {},
   "outputs": [
    {
     "name": "stdout",
     "output_type": "stream",
     "text": [
      "0\n",
      "1\n",
      "2\n"
     ]
    }
   ],
   "source": [
    "for i in range(len(word2)//6):\n",
    "    print(word[i"
   ]
  },
  {
   "cell_type": "code",
   "execution_count": 166,
   "id": "051ec749-09a2-4fdc-9f2c-3a0144e0d339",
   "metadata": {},
   "outputs": [],
   "source": [
    "def brToEng(word):\n",
    "    dic = br_eng #use eng letters dictionary by default\n",
    "    resp = '' #start with an empty word to return\n",
    "    c = 0 #capital indicator as 0\n",
    "    for i in range(0, len(word),6): #iterate over the entire word in 6 by 6\n",
    "        l = dic[word[i:i+6]] #review every 6 symbols to make up 1 braile simbol\n",
    "        if l == 'sp': #if is a space\n",
    "            dic = br_eng #return to letters dict\n",
    "            l = ' '\n",
    "        elif l == 'num': #if is a number, change dic to number\n",
    "            dic = br_eng_num\n",
    "            l=''\n",
    "        elif l == 'cap': #if capital leters follows, indicate it\n",
    "            c = 1\n",
    "            l=''\n",
    "\n",
    "        if (c == 1) & (l != ''): #if the previous was a capital indicator, capitalize the leter\n",
    "            l = l.upper()\n",
    "            c=0 #return the indicator to lower\n",
    "        resp = resp+l #add the letter to the reponse\n",
    "    print(resp)"
   ]
  },
  {
   "cell_type": "code",
   "execution_count": 167,
   "id": "b7dff5b0-7a38-472b-afb0-e2b8eee0daf0",
   "metadata": {},
   "outputs": [
    {
     "name": "stdout",
     "output_type": "stream",
     "text": [
      "there Was 1 or 2\n"
     ]
    }
   ],
   "source": [
    "word3 = '.OOOO.O.OO..O..O..O.OOO.O..O.............O.OOO.OO......OO.O........O.OOOO...........O..OO.O.OOO........O.OOOO.O...'\n",
    "brToEng(word3)"
   ]
  },
  {
   "cell_type": "code",
   "execution_count": 168,
   "id": "45607e3a-119d-4d31-8a9a-7f329768da91",
   "metadata": {},
   "outputs": [
    {
     "name": "stdout",
     "output_type": "stream",
     "text": [
      "42\n"
     ]
    }
   ],
   "source": [
    "brToEng(word2)"
   ]
  },
  {
   "cell_type": "code",
   "execution_count": 169,
   "id": "29b1efe7-1dae-4763-867d-4239b688700d",
   "metadata": {},
   "outputs": [
    {
     "name": "stdout",
     "output_type": "stream",
     "text": [
      "O.OO..O..O..O.O.O.O.O.O.O..OO.......OO..O.OO.OOO......OOO...O.OOO..OO...O..O..OO.OO.OO.O..\n"
     ]
    }
   ],
   "source": [
    "engToBr('hello my friend')"
   ]
  },
  {
   "cell_type": "code",
   "execution_count": 171,
   "id": "14b21ef6-51f0-4be3-b52b-8d6e158b80a5",
   "metadata": {},
   "outputs": [
    {
     "name": "stdout",
     "output_type": "stream",
     "text": [
      "hello my friend\n"
     ]
    }
   ],
   "source": [
    "brToEng('O.OO..O..O..O.O.O.O.O.O.O..OO.......OO..O.OO.OOO......OOO...O.OOO..OO...O..O..OO.OO.OO.O..')"
   ]
  },
  {
   "cell_type": "code",
   "execution_count": 155,
   "id": "b824abcc-8907-4ddf-b9b7-a14e0fd92e6a",
   "metadata": {},
   "outputs": [
    {
     "data": {
      "text/plain": [
       "19"
      ]
     },
     "execution_count": 155,
     "metadata": {},
     "output_type": "execute_result"
    }
   ],
   "source": [
    "len(word3) //6"
   ]
  },
  {
   "cell_type": "code",
   "execution_count": 172,
   "id": "910cbc3a-af47-40af-867f-1e8ebc39ce23",
   "metadata": {},
   "outputs": [],
   "source": [
    "def translator(word):\n",
    "    if is_eng(word) == 1:\n",
    "        engToBr(word)\n",
    "    else:\n",
    "        brToEng(word)"
   ]
  },
  {
   "cell_type": "code",
   "execution_count": 194,
   "id": "f715ab25-b41b-4097-9ecf-00961f77eccc",
   "metadata": {},
   "outputs": [
    {
     "name": "stdout",
     "output_type": "stream",
     "text": [
      ".....OO.....O.O...OO...........O.OOOO......O.OOOO.O....O.OOOOO..........OO..OO.....OOO.OOOO..OOO\n"
     ]
    }
   ],
   "source": [
    "translator('Abc 123 xYz')"
   ]
  },
  {
   "cell_type": "code",
   "execution_count": 193,
   "id": "8a279adb-97c3-49f6-af19-e00e0f3b24c7",
   "metadata": {},
   "outputs": [
    {
     "name": "stdout",
     "output_type": "stream",
     "text": [
      ".....O\n",
      "O.....\n",
      "O.O...\n",
      "OO....\n",
      "......\n",
      ".O.OOO\n",
      "O.....\n",
      ".O.OOO\n",
      "O.O...\n",
      ".O.OOO\n",
      "OO....\n",
      "......\n",
      "OO..OO\n",
      ".....O\n",
      "OO.OOO\n",
      "O..OOO\n"
     ]
    }
   ],
   "source": [
    "r = '.....OO.....O.O...OO...........O.OOOO......O.OOOO.O....O.OOOOO..........OO..OO.....OOO.OOOO..OOO'\n",
    "for i in range(0, len(r), 6):\n",
    "    print(r[i:i+6])"
   ]
  },
  {
   "cell_type": "code",
   "execution_count": 197,
   "id": "29a571e3-b6cb-4e85-bb1b-a21c1031813a",
   "metadata": {},
   "outputs": [
    {
     "name": "stdout",
     "output_type": "stream",
     "text": [
      ".....O\n",
      ".....O\n",
      "\n",
      "O.....\n",
      "O.....\n",
      "\n",
      "O.O...\n",
      "O.O...\n",
      "\n",
      "OO....\n",
      "OO....\n",
      "\n",
      "......\n",
      "......\n",
      "\n",
      ".O.OOO\n",
      ".O.OOO\n",
      "\n",
      "O.....\n",
      "O.....\n",
      "\n",
      ".O.OOO\n",
      "O.O...\n",
      "\n",
      "O.O...\n",
      "OO....\n",
      "\n",
      ".O.OOO\n",
      "......\n",
      "\n",
      "OO....\n",
      "OO..OO\n",
      "\n",
      "......\n",
      ".....O\n",
      "\n",
      "OO..OO\n",
      "OO.OOO\n",
      "\n",
      ".....O\n",
      "O..OOO\n",
      "\n"
     ]
    }
   ],
   "source": [
    "r2 = '.....OO.....O.O...OO...........O.OOOO.....O.O...OO..........OO..OO.....OOO.OOOO..OOO'\n",
    "for i in range(0, len(r2), 6):\n",
    "    print(r[i:i+6])\n",
    "    print(r2[i:i+6])\n",
    "    print()"
   ]
  }
 ],
 "metadata": {
  "kernelspec": {
   "display_name": "Python 3",
   "language": "python",
   "name": "python3"
  },
  "language_info": {
   "codemirror_mode": {
    "name": "ipython",
    "version": 3
   },
   "file_extension": ".py",
   "mimetype": "text/x-python",
   "name": "python",
   "nbconvert_exporter": "python",
   "pygments_lexer": "ipython3",
   "version": "3.11.7"
  }
 },
 "nbformat": 4,
 "nbformat_minor": 5
}
